{
 "cells": [
  {
   "cell_type": "markdown",
   "metadata": {},
   "source": [
    "# LeNet-5 in Keras"
   ]
  },
  {
   "cell_type": "markdown",
   "metadata": {},
   "source": [
    "Build an deep, convolutional neural network to classify MNIST digits"
   ]
  },
  {
   "cell_type": "markdown",
   "metadata": {},
   "source": [
    "#### Set seed for reproducibility"
   ]
  },
  {
   "cell_type": "code",
   "execution_count": 1,
   "metadata": {},
   "outputs": [],
   "source": [
    "import numpy as np\n",
    "np.random.seed(42)"
   ]
  },
  {
   "cell_type": "markdown",
   "metadata": {},
   "source": [
    "#### Load dependencies"
   ]
  },
  {
   "cell_type": "code",
   "execution_count": 2,
   "metadata": {},
   "outputs": [
    {
     "name": "stderr",
     "output_type": "stream",
     "text": [
      "/home/charul/anaconda3/lib/python3.6/site-packages/h5py/__init__.py:36: FutureWarning: Conversion of the second argument of issubdtype from `float` to `np.floating` is deprecated. In future, it will be treated as `np.float64 == np.dtype(float).type`.\n",
      "  from ._conv import register_converters as _register_converters\n",
      "Using TensorFlow backend.\n"
     ]
    }
   ],
   "source": [
    "import keras\n",
    "from keras.datasets import mnist\n",
    "from keras.models import Sequential\n",
    "from keras.layers import Dense, Dropout\n",
    "from keras.layers import Flatten, MaxPooling2D, Conv2D"
   ]
  },
  {
   "cell_type": "markdown",
   "metadata": {},
   "source": [
    "#### Load data"
   ]
  },
  {
   "cell_type": "code",
   "execution_count": 3,
   "metadata": {},
   "outputs": [],
   "source": [
    "(X_train, y_train), (X_test, y_test) = mnist.load_data()"
   ]
  },
  {
   "cell_type": "markdown",
   "metadata": {},
   "source": [
    "#### Preprocess data"
   ]
  },
  {
   "cell_type": "code",
   "execution_count": 4,
   "metadata": {},
   "outputs": [],
   "source": [
    "X_train = X_train.reshape(60000, 28, 28, 1).astype('float32')\n",
    "X_test = X_test.reshape(10000, 28, 28, 1).astype('float32')"
   ]
  },
  {
   "cell_type": "code",
   "execution_count": 5,
   "metadata": {},
   "outputs": [],
   "source": [
    "X_train /= 255\n",
    "X_test /= 255"
   ]
  },
  {
   "cell_type": "code",
   "execution_count": 6,
   "metadata": {},
   "outputs": [],
   "source": [
    "n_classes = 10\n",
    "y_train = keras.utils.to_categorical(y_train, n_classes)\n",
    "y_test = keras.utils.to_categorical(y_test, n_classes)"
   ]
  },
  {
   "cell_type": "markdown",
   "metadata": {},
   "source": [
    "#### Design neural network architecture"
   ]
  },
  {
   "cell_type": "code",
   "execution_count": 7,
   "metadata": {},
   "outputs": [],
   "source": [
    "model = Sequential()\n",
    "model.add(Conv2D(32, kernel_size=(3,3), activation= 'relu', input_shape= (28,28,1)))\n",
    "model.add(Conv2D(64, kernel_size=(3,3), activation='relu'))\n",
    "model.add(MaxPooling2D(pool_size=(2,2)))\n",
    "model.add(Dropout(0.25))\n",
    "model.add(Flatten())\n",
    "model.add(Dense(128, activation='relu'))\n",
    "model.add(Dropout(0.5))\n",
    "model.add(Dense(n_classes,activation='softmax'))"
   ]
  },
  {
   "cell_type": "code",
   "execution_count": 8,
   "metadata": {
    "scrolled": true
   },
   "outputs": [
    {
     "name": "stdout",
     "output_type": "stream",
     "text": [
      "_________________________________________________________________\n",
      "Layer (type)                 Output Shape              Param #   \n",
      "=================================================================\n",
      "conv2d_1 (Conv2D)            (None, 26, 26, 32)        320       \n",
      "_________________________________________________________________\n",
      "conv2d_2 (Conv2D)            (None, 24, 24, 64)        18496     \n",
      "_________________________________________________________________\n",
      "max_pooling2d_1 (MaxPooling2 (None, 12, 12, 64)        0         \n",
      "_________________________________________________________________\n",
      "dropout_1 (Dropout)          (None, 12, 12, 64)        0         \n",
      "_________________________________________________________________\n",
      "flatten_1 (Flatten)          (None, 9216)              0         \n",
      "_________________________________________________________________\n",
      "dense_1 (Dense)              (None, 128)               1179776   \n",
      "_________________________________________________________________\n",
      "dropout_2 (Dropout)          (None, 128)               0         \n",
      "_________________________________________________________________\n",
      "dense_2 (Dense)              (None, 10)                1290      \n",
      "=================================================================\n",
      "Total params: 1,199,882\n",
      "Trainable params: 1,199,882\n",
      "Non-trainable params: 0\n",
      "_________________________________________________________________\n"
     ]
    }
   ],
   "source": [
    "model.summary()"
   ]
  },
  {
   "cell_type": "markdown",
   "metadata": {},
   "source": [
    "#### Configure model"
   ]
  },
  {
   "cell_type": "code",
   "execution_count": 10,
   "metadata": {},
   "outputs": [],
   "source": [
    "model.compile(loss='categorical_crossentropy', optimizer= 'adam', metrics=['accuracy'])"
   ]
  },
  {
   "cell_type": "markdown",
   "metadata": {},
   "source": [
    "#### Train"
   ]
  },
  {
   "cell_type": "code",
   "execution_count": 13,
   "metadata": {},
   "outputs": [
    {
     "name": "stdout",
     "output_type": "stream",
     "text": [
      "Train on 60000 samples, validate on 10000 samples\n",
      "Epoch 1/20\n",
      "60000/60000 [==============================] - 338s 6ms/step - loss: 0.0859 - acc: 0.9739 - val_loss: 0.0368 - val_acc: 0.9874\n",
      "Epoch 2/20\n",
      "60000/60000 [==============================] - 321s 5ms/step - loss: 0.0637 - acc: 0.9806 - val_loss: 0.0330 - val_acc: 0.9889\n",
      "Epoch 3/20\n",
      "60000/60000 [==============================] - 237s 4ms/step - loss: 0.0522 - acc: 0.9837 - val_loss: 0.0293 - val_acc: 0.9900\n",
      "Epoch 4/20\n",
      "60000/60000 [==============================] - 227s 4ms/step - loss: 0.0429 - acc: 0.9869 - val_loss: 0.0314 - val_acc: 0.9900\n",
      "Epoch 5/20\n",
      "60000/60000 [==============================] - 225s 4ms/step - loss: 0.0392 - acc: 0.9878 - val_loss: 0.0283 - val_acc: 0.9899\n",
      "Epoch 6/20\n",
      "60000/60000 [==============================] - 224s 4ms/step - loss: 0.0349 - acc: 0.9891 - val_loss: 0.0273 - val_acc: 0.9915\n",
      "Epoch 7/20\n",
      "60000/60000 [==============================] - 224s 4ms/step - loss: 0.0321 - acc: 0.9891 - val_loss: 0.0246 - val_acc: 0.9925\n",
      "Epoch 8/20\n",
      "60000/60000 [==============================] - 226s 4ms/step - loss: 0.0289 - acc: 0.9902 - val_loss: 0.0265 - val_acc: 0.9914\n",
      "Epoch 9/20\n",
      "60000/60000 [==============================] - 223s 4ms/step - loss: 0.0276 - acc: 0.9911 - val_loss: 0.0270 - val_acc: 0.9920\n",
      "Epoch 10/20\n",
      "60000/60000 [==============================] - 224s 4ms/step - loss: 0.0235 - acc: 0.9924 - val_loss: 0.0271 - val_acc: 0.9922\n",
      "Epoch 11/20\n",
      "60000/60000 [==============================] - 223s 4ms/step - loss: 0.0229 - acc: 0.9925 - val_loss: 0.0352 - val_acc: 0.9903\n",
      "Epoch 12/20\n",
      "60000/60000 [==============================] - 223s 4ms/step - loss: 0.0194 - acc: 0.9936 - val_loss: 0.0266 - val_acc: 0.9925\n",
      "Epoch 13/20\n",
      "60000/60000 [==============================] - 222s 4ms/step - loss: 0.0192 - acc: 0.9935 - val_loss: 0.0296 - val_acc: 0.9918\n",
      "Epoch 14/20\n",
      "60000/60000 [==============================] - 69363s 1s/step - loss: 0.0187 - acc: 0.9939 - val_loss: 0.0283 - val_acc: 0.9928\n",
      "Epoch 15/20\n",
      "60000/60000 [==============================] - 204s 3ms/step - loss: 0.0171 - acc: 0.9943 - val_loss: 0.0272 - val_acc: 0.9930\n",
      "Epoch 16/20\n",
      "60000/60000 [==============================] - 258s 4ms/step - loss: 0.0176 - acc: 0.9939 - val_loss: 0.0326 - val_acc: 0.9918\n",
      "Epoch 17/20\n",
      "60000/60000 [==============================] - 210s 3ms/step - loss: 0.0167 - acc: 0.9946 - val_loss: 0.0271 - val_acc: 0.9927\n",
      "Epoch 18/20\n",
      "60000/60000 [==============================] - 219s 4ms/step - loss: 0.0136 - acc: 0.9951 - val_loss: 0.0386 - val_acc: 0.9904\n",
      "Epoch 19/20\n",
      "60000/60000 [==============================] - 234s 4ms/step - loss: 0.0149 - acc: 0.9950 - val_loss: 0.0387 - val_acc: 0.9907\n",
      "Epoch 20/20\n",
      "60000/60000 [==============================] - 216s 4ms/step - loss: 0.0126 - acc: 0.9956 - val_loss: 0.0374 - val_acc: 0.9907\n"
     ]
    },
    {
     "data": {
      "text/plain": [
       "<keras.callbacks.History at 0x7f6eeb810908>"
      ]
     },
     "execution_count": 13,
     "metadata": {},
     "output_type": "execute_result"
    }
   ],
   "source": [
    "model.fit(X_train, y_train, batch_size=128, epochs=20, verbose=1, validation_data=(X_test, y_test))"
   ]
  },
  {
   "cell_type": "code",
   "execution_count": null,
   "metadata": {},
   "outputs": [],
   "source": []
  },
  {
   "cell_type": "code",
   "execution_count": null,
   "metadata": {},
   "outputs": [],
   "source": []
  }
 ],
 "metadata": {
  "kernelspec": {
   "display_name": "Python 3",
   "language": "python",
   "name": "python3"
  },
  "language_info": {
   "codemirror_mode": {
    "name": "ipython",
    "version": 3
   },
   "file_extension": ".py",
   "mimetype": "text/x-python",
   "name": "python",
   "nbconvert_exporter": "python",
   "pygments_lexer": "ipython3",
   "version": "3.6.5"
  }
 },
 "nbformat": 4,
 "nbformat_minor": 2
}
