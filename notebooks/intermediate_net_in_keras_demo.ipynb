{
 "cells": [
  {
   "cell_type": "markdown",
   "metadata": {},
   "source": [
    "# Intermediate Neural Network in Keras"
   ]
  },
  {
   "cell_type": "markdown",
   "metadata": {},
   "source": [
    "Build an intermediate neural network to classify MNIST digits"
   ]
  },
  {
   "cell_type": "markdown",
   "metadata": {},
   "source": [
    "#### Set seed for reproducibility"
   ]
  },
  {
   "cell_type": "code",
   "execution_count": 1,
   "metadata": {},
   "outputs": [],
   "source": [
    "import numpy as np\n",
    "np.random.seed(42)"
   ]
  },
  {
   "cell_type": "markdown",
   "metadata": {},
   "source": [
    "#### Load dependencies"
   ]
  },
  {
   "cell_type": "code",
   "execution_count": 2,
   "metadata": {},
   "outputs": [
    {
     "name": "stderr",
     "output_type": "stream",
     "text": [
      "/home/charul/anaconda3/lib/python3.6/site-packages/h5py/__init__.py:36: FutureWarning: Conversion of the second argument of issubdtype from `float` to `np.floating` is deprecated. In future, it will be treated as `np.float64 == np.dtype(float).type`.\n",
      "  from ._conv import register_converters as _register_converters\n",
      "Using TensorFlow backend.\n"
     ]
    }
   ],
   "source": [
    "import keras\n",
    "from keras.datasets import mnist\n",
    "from keras.models import Sequential\n",
    "from keras.layers import Dense\n",
    "from keras.optimizers import SGD"
   ]
  },
  {
   "cell_type": "markdown",
   "metadata": {},
   "source": [
    "#### Load data"
   ]
  },
  {
   "cell_type": "code",
   "execution_count": 3,
   "metadata": {},
   "outputs": [],
   "source": [
    "(X_train, y_train), (X_test, y_test) = mnist.load_data()"
   ]
  },
  {
   "cell_type": "markdown",
   "metadata": {},
   "source": [
    "#### Preprocess data"
   ]
  },
  {
   "cell_type": "code",
   "execution_count": 4,
   "metadata": {},
   "outputs": [],
   "source": [
    "X_train = X_train.reshape(60000, 784).astype('float32')\n",
    "X_test = X_test.reshape(10000, 784).astype('float32')"
   ]
  },
  {
   "cell_type": "code",
   "execution_count": 5,
   "metadata": {},
   "outputs": [],
   "source": [
    "X_train /= 255\n",
    "X_test /= 255"
   ]
  },
  {
   "cell_type": "code",
   "execution_count": 6,
   "metadata": {},
   "outputs": [],
   "source": [
    "n_classes = 10\n",
    "y_train = keras.utils.to_categorical(y_train, n_classes)\n",
    "y_test = keras.utils.to_categorical(y_test, n_classes)"
   ]
  },
  {
   "cell_type": "markdown",
   "metadata": {},
   "source": [
    "#### Design neural network architecture"
   ]
  },
  {
   "cell_type": "code",
   "execution_count": 7,
   "metadata": {},
   "outputs": [],
   "source": [
    "model = Sequential()\n",
    "model.add(Dense(64, activation='relu', input_shape=(784,)))\n",
    "model.add(Dense(64, activation='relu'))\n",
    "model.add(Dense(10, activation='softmax'))"
   ]
  },
  {
   "cell_type": "code",
   "execution_count": 8,
   "metadata": {},
   "outputs": [
    {
     "name": "stdout",
     "output_type": "stream",
     "text": [
      "_________________________________________________________________\n",
      "Layer (type)                 Output Shape              Param #   \n",
      "=================================================================\n",
      "dense_1 (Dense)              (None, 64)                50240     \n",
      "_________________________________________________________________\n",
      "dense_2 (Dense)              (None, 64)                4160      \n",
      "_________________________________________________________________\n",
      "dense_3 (Dense)              (None, 10)                650       \n",
      "=================================================================\n",
      "Total params: 55,050\n",
      "Trainable params: 55,050\n",
      "Non-trainable params: 0\n",
      "_________________________________________________________________\n"
     ]
    }
   ],
   "source": [
    "model.summary()"
   ]
  },
  {
   "cell_type": "markdown",
   "metadata": {},
   "source": [
    "#### Configure model"
   ]
  },
  {
   "cell_type": "code",
   "execution_count": 9,
   "metadata": {},
   "outputs": [],
   "source": [
    "model.compile(loss='categorical_crossentropy', optimizer=SGD(lr=0.1), metrics=['accuracy'])"
   ]
  },
  {
   "cell_type": "markdown",
   "metadata": {},
   "source": [
    "#### Train!"
   ]
  },
  {
   "cell_type": "code",
   "execution_count": 10,
   "metadata": {},
   "outputs": [
    {
     "name": "stdout",
     "output_type": "stream",
     "text": [
      "Train on 60000 samples, validate on 10000 samples\n",
      "Epoch 1/200\n",
      "60000/60000 [==============================] - 6s 96us/step - loss: 0.4806 - acc: 0.8630 - val_loss: 0.2508 - val_acc: 0.9256\n",
      "Epoch 2/200\n",
      "60000/60000 [==============================] - 4s 73us/step - loss: 0.2274 - acc: 0.9343 - val_loss: 0.2003 - val_acc: 0.9411\n",
      "Epoch 3/200\n",
      "60000/60000 [==============================] - 4s 70us/step - loss: 0.1749 - acc: 0.9489 - val_loss: 0.1524 - val_acc: 0.9540\n",
      "Epoch 4/200\n",
      "60000/60000 [==============================] - 4s 71us/step - loss: 0.1445 - acc: 0.9576 - val_loss: 0.1346 - val_acc: 0.9603\n",
      "Epoch 5/200\n",
      "60000/60000 [==============================] - 4s 73us/step - loss: 0.1231 - acc: 0.9643 - val_loss: 0.1327 - val_acc: 0.9593\n",
      "Epoch 6/200\n",
      "60000/60000 [==============================] - 4s 73us/step - loss: 0.1075 - acc: 0.9687 - val_loss: 0.1104 - val_acc: 0.9660\n",
      "Epoch 7/200\n",
      "60000/60000 [==============================] - 4s 72us/step - loss: 0.0955 - acc: 0.9718 - val_loss: 0.1009 - val_acc: 0.9705\n",
      "Epoch 8/200\n",
      "60000/60000 [==============================] - 4s 74us/step - loss: 0.0853 - acc: 0.9753 - val_loss: 0.0948 - val_acc: 0.9715\n",
      "Epoch 9/200\n",
      "60000/60000 [==============================] - 4s 75us/step - loss: 0.0785 - acc: 0.9766 - val_loss: 0.0918 - val_acc: 0.9728\n",
      "Epoch 10/200\n",
      "60000/60000 [==============================] - 5s 75us/step - loss: 0.0707 - acc: 0.9790 - val_loss: 0.1015 - val_acc: 0.9689\n",
      "Epoch 11/200\n",
      "60000/60000 [==============================] - 5s 76us/step - loss: 0.0656 - acc: 0.9800 - val_loss: 0.0902 - val_acc: 0.9736\n",
      "Epoch 12/200\n",
      "60000/60000 [==============================] - 5s 76us/step - loss: 0.0596 - acc: 0.9825 - val_loss: 0.0854 - val_acc: 0.9749\n",
      "Epoch 13/200\n",
      "60000/60000 [==============================] - 5s 77us/step - loss: 0.0545 - acc: 0.9841 - val_loss: 0.0896 - val_acc: 0.9728\n",
      "Epoch 14/200\n",
      "60000/60000 [==============================] - 5s 75us/step - loss: 0.0512 - acc: 0.9848 - val_loss: 0.0884 - val_acc: 0.9722\n",
      "Epoch 15/200\n",
      "60000/60000 [==============================] - 5s 82us/step - loss: 0.0476 - acc: 0.9862 - val_loss: 0.0886 - val_acc: 0.9721\n",
      "Epoch 16/200\n",
      "60000/60000 [==============================] - 5s 88us/step - loss: 0.0439 - acc: 0.9869 - val_loss: 0.0915 - val_acc: 0.9725\n",
      "Epoch 17/200\n",
      "60000/60000 [==============================] - 4s 69us/step - loss: 0.0418 - acc: 0.9876 - val_loss: 0.0887 - val_acc: 0.9729\n",
      "Epoch 18/200\n",
      "60000/60000 [==============================] - 5s 84us/step - loss: 0.0382 - acc: 0.9887 - val_loss: 0.0818 - val_acc: 0.9753\n",
      "Epoch 19/200\n",
      "60000/60000 [==============================] - 6s 103us/step - loss: 0.0356 - acc: 0.9897 - val_loss: 0.0846 - val_acc: 0.9739\n",
      "Epoch 20/200\n",
      "60000/60000 [==============================] - 6s 103us/step - loss: 0.0332 - acc: 0.9901 - val_loss: 0.0815 - val_acc: 0.9758\n",
      "Epoch 21/200\n",
      "60000/60000 [==============================] - 6s 101us/step - loss: 0.0320 - acc: 0.9907 - val_loss: 0.0820 - val_acc: 0.9753\n",
      "Epoch 22/200\n",
      "60000/60000 [==============================] - 6s 105us/step - loss: 0.0294 - acc: 0.9916 - val_loss: 0.0799 - val_acc: 0.9777\n",
      "Epoch 23/200\n",
      "60000/60000 [==============================] - 6s 106us/step - loss: 0.0273 - acc: 0.9923 - val_loss: 0.0811 - val_acc: 0.9766\n",
      "Epoch 24/200\n",
      "60000/60000 [==============================] - 6s 108us/step - loss: 0.0262 - acc: 0.9925 - val_loss: 0.0806 - val_acc: 0.9774\n",
      "Epoch 25/200\n",
      "60000/60000 [==============================] - 6s 108us/step - loss: 0.0242 - acc: 0.9931 - val_loss: 0.0860 - val_acc: 0.9759\n",
      "Epoch 26/200\n",
      "60000/60000 [==============================] - 6s 104us/step - loss: 0.0234 - acc: 0.9934 - val_loss: 0.0866 - val_acc: 0.9759\n",
      "Epoch 27/200\n",
      "60000/60000 [==============================] - 5s 81us/step - loss: 0.0207 - acc: 0.9943 - val_loss: 0.0856 - val_acc: 0.9764\n",
      "Epoch 28/200\n",
      "60000/60000 [==============================] - 4s 61us/step - loss: 0.0194 - acc: 0.9949 - val_loss: 0.0846 - val_acc: 0.9766\n",
      "Epoch 29/200\n",
      "60000/60000 [==============================] - 4s 59us/step - loss: 0.0178 - acc: 0.9954 - val_loss: 0.0845 - val_acc: 0.9779\n",
      "Epoch 30/200\n",
      "60000/60000 [==============================] - 4s 62us/step - loss: 0.0165 - acc: 0.9957 - val_loss: 0.0870 - val_acc: 0.9772\n",
      "Epoch 31/200\n",
      "60000/60000 [==============================] - 5s 75us/step - loss: 0.0159 - acc: 0.9960 - val_loss: 0.0846 - val_acc: 0.9768\n",
      "Epoch 32/200\n",
      "60000/60000 [==============================] - 4s 66us/step - loss: 0.0143 - acc: 0.9966 - val_loss: 0.0851 - val_acc: 0.9782\n",
      "Epoch 33/200\n",
      "60000/60000 [==============================] - 5s 82us/step - loss: 0.0128 - acc: 0.9973 - val_loss: 0.0891 - val_acc: 0.9766\n",
      "Epoch 34/200\n",
      "60000/60000 [==============================] - 5s 89us/step - loss: 0.0123 - acc: 0.9972 - val_loss: 0.0880 - val_acc: 0.9763\n",
      "Epoch 35/200\n",
      "60000/60000 [==============================] - 7s 110us/step - loss: 0.0114 - acc: 0.9977 - val_loss: 0.1042 - val_acc: 0.9723\n",
      "Epoch 36/200\n",
      "60000/60000 [==============================] - 6s 107us/step - loss: 0.0109 - acc: 0.9978 - val_loss: 0.0900 - val_acc: 0.9769\n",
      "Epoch 37/200\n",
      "60000/60000 [==============================] - 5s 75us/step - loss: 0.0102 - acc: 0.9979 - val_loss: 0.0906 - val_acc: 0.9770\n",
      "Epoch 38/200\n",
      "60000/60000 [==============================] - 5s 89us/step - loss: 0.0091 - acc: 0.9983 - val_loss: 0.0899 - val_acc: 0.9767\n",
      "Epoch 39/200\n",
      "60000/60000 [==============================] - 5s 77us/step - loss: 0.0082 - acc: 0.9988 - val_loss: 0.0992 - val_acc: 0.9756\n",
      "Epoch 40/200\n",
      "60000/60000 [==============================] - 5s 75us/step - loss: 0.0075 - acc: 0.9989 - val_loss: 0.0933 - val_acc: 0.9766\n",
      "Epoch 41/200\n",
      "60000/60000 [==============================] - 5s 75us/step - loss: 0.0074 - acc: 0.9990 - val_loss: 0.0927 - val_acc: 0.9770\n",
      "Epoch 42/200\n",
      "60000/60000 [==============================] - 5s 76us/step - loss: 0.0066 - acc: 0.9990 - val_loss: 0.0947 - val_acc: 0.9772\n",
      "Epoch 43/200\n",
      "60000/60000 [==============================] - 5s 76us/step - loss: 0.0060 - acc: 0.9992 - val_loss: 0.0983 - val_acc: 0.9761\n",
      "Epoch 44/200\n",
      "60000/60000 [==============================] - 5s 77us/step - loss: 0.0054 - acc: 0.9994 - val_loss: 0.0948 - val_acc: 0.9769\n",
      "Epoch 45/200\n",
      "60000/60000 [==============================] - 5s 76us/step - loss: 0.0051 - acc: 0.9995 - val_loss: 0.0973 - val_acc: 0.9769\n",
      "Epoch 46/200\n",
      "60000/60000 [==============================] - 4s 74us/step - loss: 0.0047 - acc: 0.9997 - val_loss: 0.0962 - val_acc: 0.9774\n",
      "Epoch 47/200\n",
      "60000/60000 [==============================] - 5s 76us/step - loss: 0.0046 - acc: 0.9995 - val_loss: 0.0966 - val_acc: 0.9765\n",
      "Epoch 48/200\n",
      "60000/60000 [==============================] - 5s 77us/step - loss: 0.0040 - acc: 0.9998 - val_loss: 0.0995 - val_acc: 0.9763\n",
      "Epoch 49/200\n",
      "60000/60000 [==============================] - 4s 75us/step - loss: 0.0038 - acc: 0.9997 - val_loss: 0.0986 - val_acc: 0.9765\n",
      "Epoch 50/200\n",
      "60000/60000 [==============================] - 5s 81us/step - loss: 0.0035 - acc: 0.9999 - val_loss: 0.0990 - val_acc: 0.9770\n",
      "Epoch 51/200\n",
      "60000/60000 [==============================] - 6s 101us/step - loss: 0.0033 - acc: 0.9999 - val_loss: 0.0998 - val_acc: 0.9760\n",
      "Epoch 52/200\n",
      "60000/60000 [==============================] - 6s 101us/step - loss: 0.0031 - acc: 0.9999 - val_loss: 0.1021 - val_acc: 0.9763\n",
      "Epoch 53/200\n",
      "60000/60000 [==============================] - 6s 92us/step - loss: 0.0029 - acc: 0.9999 - val_loss: 0.1010 - val_acc: 0.9767\n",
      "Epoch 54/200\n",
      "60000/60000 [==============================] - 6s 92us/step - loss: 0.0029 - acc: 0.9998 - val_loss: 0.1027 - val_acc: 0.9767\n",
      "Epoch 55/200\n",
      "60000/60000 [==============================] - 5s 91us/step - loss: 0.0027 - acc: 0.9999 - val_loss: 0.1034 - val_acc: 0.9770\n",
      "Epoch 56/200\n",
      "60000/60000 [==============================] - 5s 76us/step - loss: 0.0026 - acc: 0.9999 - val_loss: 0.1015 - val_acc: 0.9775\n",
      "Epoch 57/200\n",
      "60000/60000 [==============================] - 5s 77us/step - loss: 0.0023 - acc: 1.0000 - val_loss: 0.1025 - val_acc: 0.9770\n",
      "Epoch 58/200\n",
      "60000/60000 [==============================] - 5s 77us/step - loss: 0.0023 - acc: 0.9999 - val_loss: 0.1025 - val_acc: 0.9771\n",
      "Epoch 59/200\n"
     ]
    },
    {
     "name": "stdout",
     "output_type": "stream",
     "text": [
      "60000/60000 [==============================] - 4s 67us/step - loss: 0.0021 - acc: 1.0000 - val_loss: 0.1047 - val_acc: 0.9771\n",
      "Epoch 60/200\n",
      "60000/60000 [==============================] - 4s 67us/step - loss: 0.0020 - acc: 1.0000 - val_loss: 0.1052 - val_acc: 0.9772\n",
      "Epoch 61/200\n",
      "60000/60000 [==============================] - 4s 66us/step - loss: 0.0019 - acc: 1.0000 - val_loss: 0.1055 - val_acc: 0.9764\n",
      "Epoch 62/200\n",
      "60000/60000 [==============================] - 4s 68us/step - loss: 0.0018 - acc: 1.0000 - val_loss: 0.1063 - val_acc: 0.9767\n",
      "Epoch 63/200\n",
      "60000/60000 [==============================] - 4s 69us/step - loss: 0.0018 - acc: 1.0000 - val_loss: 0.1065 - val_acc: 0.9771\n",
      "Epoch 64/200\n",
      "60000/60000 [==============================] - 4s 68us/step - loss: 0.0017 - acc: 1.0000 - val_loss: 0.1070 - val_acc: 0.9769\n",
      "Epoch 65/200\n",
      "60000/60000 [==============================] - 4s 70us/step - loss: 0.0016 - acc: 1.0000 - val_loss: 0.1075 - val_acc: 0.9772\n",
      "Epoch 66/200\n",
      "60000/60000 [==============================] - 4s 66us/step - loss: 0.0016 - acc: 1.0000 - val_loss: 0.1083 - val_acc: 0.9769\n",
      "Epoch 67/200\n",
      "60000/60000 [==============================] - 4s 69us/step - loss: 0.0015 - acc: 1.0000 - val_loss: 0.1073 - val_acc: 0.9776\n",
      "Epoch 68/200\n",
      "60000/60000 [==============================] - 4s 69us/step - loss: 0.0015 - acc: 1.0000 - val_loss: 0.1081 - val_acc: 0.9769\n",
      "Epoch 69/200\n",
      "60000/60000 [==============================] - 4s 66us/step - loss: 0.0014 - acc: 1.0000 - val_loss: 0.1095 - val_acc: 0.9769\n",
      "Epoch 70/200\n",
      "60000/60000 [==============================] - 4s 68us/step - loss: 0.0014 - acc: 1.0000 - val_loss: 0.1096 - val_acc: 0.9767\n",
      "Epoch 71/200\n",
      "60000/60000 [==============================] - 4s 68us/step - loss: 0.0013 - acc: 1.0000 - val_loss: 0.1094 - val_acc: 0.9768\n",
      "Epoch 72/200\n",
      "60000/60000 [==============================] - 4s 66us/step - loss: 0.0013 - acc: 1.0000 - val_loss: 0.1104 - val_acc: 0.9769\n",
      "Epoch 73/200\n",
      "60000/60000 [==============================] - 4s 67us/step - loss: 0.0013 - acc: 1.0000 - val_loss: 0.1100 - val_acc: 0.9773\n",
      "Epoch 74/200\n",
      "60000/60000 [==============================] - 4s 68us/step - loss: 0.0012 - acc: 1.0000 - val_loss: 0.1115 - val_acc: 0.9774\n",
      "Epoch 75/200\n",
      "60000/60000 [==============================] - 4s 68us/step - loss: 0.0012 - acc: 1.0000 - val_loss: 0.1108 - val_acc: 0.9767\n",
      "Epoch 76/200\n",
      "60000/60000 [==============================] - 4s 70us/step - loss: 0.0012 - acc: 1.0000 - val_loss: 0.1114 - val_acc: 0.9773\n",
      "Epoch 77/200\n",
      "60000/60000 [==============================] - 4s 67us/step - loss: 0.0011 - acc: 1.0000 - val_loss: 0.1119 - val_acc: 0.9768\n",
      "Epoch 78/200\n",
      "60000/60000 [==============================] - 4s 69us/step - loss: 0.0011 - acc: 1.0000 - val_loss: 0.1117 - val_acc: 0.9771\n",
      "Epoch 79/200\n",
      "60000/60000 [==============================] - 4s 68us/step - loss: 0.0011 - acc: 1.0000 - val_loss: 0.1124 - val_acc: 0.9770\n",
      "Epoch 80/200\n",
      "60000/60000 [==============================] - 4s 68us/step - loss: 0.0010 - acc: 1.0000 - val_loss: 0.1121 - val_acc: 0.9771\n",
      "Epoch 81/200\n",
      "60000/60000 [==============================] - 4s 70us/step - loss: 0.0010 - acc: 1.0000 - val_loss: 0.1154 - val_acc: 0.9770\n",
      "Epoch 82/200\n",
      "60000/60000 [==============================] - 4s 68us/step - loss: 9.8226e-04 - acc: 1.0000 - val_loss: 0.1141 - val_acc: 0.9772\n",
      "Epoch 83/200\n",
      "60000/60000 [==============================] - 4s 69us/step - loss: 9.6784e-04 - acc: 1.0000 - val_loss: 0.1133 - val_acc: 0.9767\n",
      "Epoch 84/200\n",
      "60000/60000 [==============================] - 4s 69us/step - loss: 9.4121e-04 - acc: 1.0000 - val_loss: 0.1145 - val_acc: 0.9775\n",
      "Epoch 85/200\n",
      "60000/60000 [==============================] - 4s 71us/step - loss: 9.1502e-04 - acc: 1.0000 - val_loss: 0.1141 - val_acc: 0.9765\n",
      "Epoch 86/200\n",
      "60000/60000 [==============================] - 4s 69us/step - loss: 8.9938e-04 - acc: 1.0000 - val_loss: 0.1156 - val_acc: 0.9771\n",
      "Epoch 87/200\n",
      "60000/60000 [==============================] - 4s 70us/step - loss: 8.6614e-04 - acc: 1.0000 - val_loss: 0.1144 - val_acc: 0.9772\n",
      "Epoch 88/200\n",
      "60000/60000 [==============================] - 4s 70us/step - loss: 8.7615e-04 - acc: 1.0000 - val_loss: 0.1150 - val_acc: 0.9771\n",
      "Epoch 89/200\n",
      "60000/60000 [==============================] - 4s 70us/step - loss: 8.3802e-04 - acc: 1.0000 - val_loss: 0.1154 - val_acc: 0.9767\n",
      "Epoch 90/200\n",
      "60000/60000 [==============================] - 4s 68us/step - loss: 8.1921e-04 - acc: 1.0000 - val_loss: 0.1161 - val_acc: 0.9771\n",
      "Epoch 91/200\n",
      "60000/60000 [==============================] - 4s 68us/step - loss: 8.0752e-04 - acc: 1.0000 - val_loss: 0.1165 - val_acc: 0.9772\n",
      "Epoch 92/200\n",
      "60000/60000 [==============================] - 4s 68us/step - loss: 7.8718e-04 - acc: 1.0000 - val_loss: 0.1164 - val_acc: 0.9765\n",
      "Epoch 93/200\n",
      "60000/60000 [==============================] - 4s 70us/step - loss: 7.7299e-04 - acc: 1.0000 - val_loss: 0.1174 - val_acc: 0.9774\n",
      "Epoch 94/200\n",
      "60000/60000 [==============================] - 4s 69us/step - loss: 7.5605e-04 - acc: 1.0000 - val_loss: 0.1174 - val_acc: 0.9763\n",
      "Epoch 95/200\n",
      "60000/60000 [==============================] - 4s 70us/step - loss: 7.3806e-04 - acc: 1.0000 - val_loss: 0.1174 - val_acc: 0.9769\n",
      "Epoch 96/200\n",
      "60000/60000 [==============================] - 4s 71us/step - loss: 7.3051e-04 - acc: 1.0000 - val_loss: 0.1174 - val_acc: 0.9765\n",
      "Epoch 97/200\n",
      "60000/60000 [==============================] - 4s 70us/step - loss: 7.1496e-04 - acc: 1.0000 - val_loss: 0.1171 - val_acc: 0.9765\n",
      "Epoch 98/200\n",
      "60000/60000 [==============================] - 4s 70us/step - loss: 7.0314e-04 - acc: 1.0000 - val_loss: 0.1179 - val_acc: 0.9770\n",
      "Epoch 99/200\n",
      "60000/60000 [==============================] - 4s 70us/step - loss: 6.8719e-04 - acc: 1.0000 - val_loss: 0.1181 - val_acc: 0.9772\n",
      "Epoch 100/200\n",
      "60000/60000 [==============================] - 4s 70us/step - loss: 6.7489e-04 - acc: 1.0000 - val_loss: 0.1178 - val_acc: 0.9768\n",
      "Epoch 101/200\n",
      "60000/60000 [==============================] - 4s 71us/step - loss: 6.6781e-04 - acc: 1.0000 - val_loss: 0.1188 - val_acc: 0.9773\n",
      "Epoch 102/200\n",
      "60000/60000 [==============================] - 4s 72us/step - loss: 6.5356e-04 - acc: 1.0000 - val_loss: 0.1191 - val_acc: 0.9765\n",
      "Epoch 103/200\n",
      "60000/60000 [==============================] - 4s 71us/step - loss: 6.4678e-04 - acc: 1.0000 - val_loss: 0.1193 - val_acc: 0.9769\n",
      "Epoch 104/200\n",
      "60000/60000 [==============================] - 4s 70us/step - loss: 6.2944e-04 - acc: 1.0000 - val_loss: 0.1193 - val_acc: 0.9771\n",
      "Epoch 105/200\n",
      "60000/60000 [==============================] - 4s 70us/step - loss: 6.1772e-04 - acc: 1.0000 - val_loss: 0.1195 - val_acc: 0.9764\n",
      "Epoch 106/200\n",
      "60000/60000 [==============================] - 4s 70us/step - loss: 6.1390e-04 - acc: 1.0000 - val_loss: 0.1197 - val_acc: 0.9767\n",
      "Epoch 107/200\n",
      "60000/60000 [==============================] - 4s 69us/step - loss: 6.0018e-04 - acc: 1.0000 - val_loss: 0.1198 - val_acc: 0.9766\n",
      "Epoch 108/200\n",
      "60000/60000 [==============================] - 4s 70us/step - loss: 5.9155e-04 - acc: 1.0000 - val_loss: 0.1197 - val_acc: 0.9766\n",
      "Epoch 109/200\n",
      "60000/60000 [==============================] - 4s 71us/step - loss: 5.8273e-04 - acc: 1.0000 - val_loss: 0.1199 - val_acc: 0.9766\n",
      "Epoch 110/200\n",
      "60000/60000 [==============================] - 4s 71us/step - loss: 5.7308e-04 - acc: 1.0000 - val_loss: 0.1205 - val_acc: 0.9771\n",
      "Epoch 111/200\n",
      "60000/60000 [==============================] - 4s 73us/step - loss: 5.6506e-04 - acc: 1.0000 - val_loss: 0.1206 - val_acc: 0.9766\n",
      "Epoch 112/200\n",
      "60000/60000 [==============================] - 4s 71us/step - loss: 5.5497e-04 - acc: 1.0000 - val_loss: 0.1213 - val_acc: 0.9769\n",
      "Epoch 113/200\n",
      "60000/60000 [==============================] - 4s 71us/step - loss: 5.5132e-04 - acc: 1.0000 - val_loss: 0.1212 - val_acc: 0.9768\n",
      "Epoch 114/200\n",
      "60000/60000 [==============================] - 4s 71us/step - loss: 5.3890e-04 - acc: 1.0000 - val_loss: 0.1215 - val_acc: 0.9769\n",
      "Epoch 115/200\n",
      "60000/60000 [==============================] - 4s 72us/step - loss: 5.2918e-04 - acc: 1.0000 - val_loss: 0.1215 - val_acc: 0.9765\n",
      "Epoch 116/200\n",
      "60000/60000 [==============================] - 4s 71us/step - loss: 5.2373e-04 - acc: 1.0000 - val_loss: 0.1216 - val_acc: 0.9768\n"
     ]
    },
    {
     "name": "stdout",
     "output_type": "stream",
     "text": [
      "Epoch 117/200\n",
      "60000/60000 [==============================] - 4s 66us/step - loss: 5.1677e-04 - acc: 1.0000 - val_loss: 0.1223 - val_acc: 0.9769\n",
      "Epoch 118/200\n",
      "60000/60000 [==============================] - 4s 68us/step - loss: 5.0473e-04 - acc: 1.0000 - val_loss: 0.1219 - val_acc: 0.9764\n",
      "Epoch 119/200\n",
      "60000/60000 [==============================] - 4s 68us/step - loss: 5.0126e-04 - acc: 1.0000 - val_loss: 0.1223 - val_acc: 0.9768\n",
      "Epoch 120/200\n",
      "60000/60000 [==============================] - 4s 67us/step - loss: 4.9352e-04 - acc: 1.0000 - val_loss: 0.1227 - val_acc: 0.9766\n",
      "Epoch 121/200\n",
      "60000/60000 [==============================] - 4s 67us/step - loss: 4.8868e-04 - acc: 1.0000 - val_loss: 0.1224 - val_acc: 0.9770\n",
      "Epoch 122/200\n",
      "60000/60000 [==============================] - 4s 68us/step - loss: 4.8300e-04 - acc: 1.0000 - val_loss: 0.1230 - val_acc: 0.9769\n",
      "Epoch 123/200\n",
      "60000/60000 [==============================] - 4s 73us/step - loss: 4.7483e-04 - acc: 1.0000 - val_loss: 0.1231 - val_acc: 0.9765\n",
      "Epoch 124/200\n",
      "60000/60000 [==============================] - 5s 88us/step - loss: 4.6884e-04 - acc: 1.0000 - val_loss: 0.1230 - val_acc: 0.9768\n",
      "Epoch 125/200\n",
      "60000/60000 [==============================] - 4s 72us/step - loss: 4.6362e-04 - acc: 1.0000 - val_loss: 0.1236 - val_acc: 0.9768\n",
      "Epoch 126/200\n",
      "60000/60000 [==============================] - 3s 55us/step - loss: 4.5472e-04 - acc: 1.0000 - val_loss: 0.1236 - val_acc: 0.9771\n",
      "Epoch 127/200\n",
      "60000/60000 [==============================] - 3s 56us/step - loss: 4.4850e-04 - acc: 1.0000 - val_loss: 0.1237 - val_acc: 0.9764\n",
      "Epoch 128/200\n",
      "60000/60000 [==============================] - 3s 56us/step - loss: 4.4541e-04 - acc: 1.0000 - val_loss: 0.1240 - val_acc: 0.9769\n",
      "Epoch 129/200\n",
      "60000/60000 [==============================] - 4s 60us/step - loss: 4.3870e-04 - acc: 1.0000 - val_loss: 0.1240 - val_acc: 0.9769\n",
      "Epoch 130/200\n",
      "60000/60000 [==============================] - 4s 63us/step - loss: 4.3259e-04 - acc: 1.0000 - val_loss: 0.1243 - val_acc: 0.9766\n",
      "Epoch 131/200\n",
      "60000/60000 [==============================] - 4s 62us/step - loss: 4.2731e-04 - acc: 1.0000 - val_loss: 0.1244 - val_acc: 0.9768\n",
      "Epoch 132/200\n",
      "60000/60000 [==============================] - 4s 62us/step - loss: 4.2288e-04 - acc: 1.0000 - val_loss: 0.1245 - val_acc: 0.9767\n",
      "Epoch 133/200\n",
      "60000/60000 [==============================] - 4s 64us/step - loss: 4.1851e-04 - acc: 1.0000 - val_loss: 0.1246 - val_acc: 0.9768\n",
      "Epoch 134/200\n",
      "60000/60000 [==============================] - 4s 62us/step - loss: 4.1315e-04 - acc: 1.0000 - val_loss: 0.1250 - val_acc: 0.9767\n",
      "Epoch 135/200\n",
      "60000/60000 [==============================] - 4s 67us/step - loss: 4.0550e-04 - acc: 1.0000 - val_loss: 0.1247 - val_acc: 0.9765\n",
      "Epoch 136/200\n",
      "60000/60000 [==============================] - 4s 67us/step - loss: 4.0294e-04 - acc: 1.0000 - val_loss: 0.1256 - val_acc: 0.9765\n",
      "Epoch 137/200\n",
      "60000/60000 [==============================] - 4s 65us/step - loss: 3.9731e-04 - acc: 1.0000 - val_loss: 0.1251 - val_acc: 0.9763\n",
      "Epoch 138/200\n",
      "60000/60000 [==============================] - 4s 66us/step - loss: 3.9260e-04 - acc: 1.0000 - val_loss: 0.1260 - val_acc: 0.9771\n",
      "Epoch 139/200\n",
      "60000/60000 [==============================] - 4s 68us/step - loss: 3.8946e-04 - acc: 1.0000 - val_loss: 0.1261 - val_acc: 0.9770\n",
      "Epoch 140/200\n",
      "60000/60000 [==============================] - 4s 69us/step - loss: 3.8400e-04 - acc: 1.0000 - val_loss: 0.1258 - val_acc: 0.9764\n",
      "Epoch 141/200\n",
      "60000/60000 [==============================] - 4s 67us/step - loss: 3.8108e-04 - acc: 1.0000 - val_loss: 0.1267 - val_acc: 0.9766\n",
      "Epoch 142/200\n",
      "60000/60000 [==============================] - 4s 67us/step - loss: 3.7679e-04 - acc: 1.0000 - val_loss: 0.1264 - val_acc: 0.9765\n",
      "Epoch 143/200\n",
      "60000/60000 [==============================] - 4s 68us/step - loss: 3.7178e-04 - acc: 1.0000 - val_loss: 0.1266 - val_acc: 0.9768\n",
      "Epoch 144/200\n",
      "60000/60000 [==============================] - 4s 65us/step - loss: 3.6804e-04 - acc: 1.0000 - val_loss: 0.1267 - val_acc: 0.9767\n",
      "Epoch 145/200\n",
      "60000/60000 [==============================] - 4s 67us/step - loss: 3.6344e-04 - acc: 1.0000 - val_loss: 0.1269 - val_acc: 0.9762\n",
      "Epoch 146/200\n",
      "60000/60000 [==============================] - 4s 67us/step - loss: 3.5932e-04 - acc: 1.0000 - val_loss: 0.1272 - val_acc: 0.9766\n",
      "Epoch 147/200\n",
      "60000/60000 [==============================] - 4s 70us/step - loss: 3.5609e-04 - acc: 1.0000 - val_loss: 0.1266 - val_acc: 0.9765\n",
      "Epoch 148/200\n",
      "60000/60000 [==============================] - 4s 68us/step - loss: 3.5237e-04 - acc: 1.0000 - val_loss: 0.1266 - val_acc: 0.9765\n",
      "Epoch 149/200\n",
      "60000/60000 [==============================] - 4s 65us/step - loss: 3.4793e-04 - acc: 1.0000 - val_loss: 0.1276 - val_acc: 0.9767\n",
      "Epoch 150/200\n",
      "60000/60000 [==============================] - 4s 67us/step - loss: 3.4432e-04 - acc: 1.0000 - val_loss: 0.1275 - val_acc: 0.9767\n",
      "Epoch 151/200\n",
      "60000/60000 [==============================] - 4s 69us/step - loss: 3.4177e-04 - acc: 1.0000 - val_loss: 0.1277 - val_acc: 0.9766\n",
      "Epoch 152/200\n",
      "60000/60000 [==============================] - 4s 67us/step - loss: 3.3781e-04 - acc: 1.0000 - val_loss: 0.1276 - val_acc: 0.9767\n",
      "Epoch 153/200\n",
      "60000/60000 [==============================] - 4s 67us/step - loss: 3.3403e-04 - acc: 1.0000 - val_loss: 0.1281 - val_acc: 0.9768\n",
      "Epoch 154/200\n",
      "60000/60000 [==============================] - 4s 67us/step - loss: 3.2992e-04 - acc: 1.0000 - val_loss: 0.1282 - val_acc: 0.9762\n",
      "Epoch 155/200\n",
      "60000/60000 [==============================] - 4s 66us/step - loss: 3.2755e-04 - acc: 1.0000 - val_loss: 0.1283 - val_acc: 0.9762\n",
      "Epoch 156/200\n",
      "60000/60000 [==============================] - 4s 68us/step - loss: 3.2457e-04 - acc: 1.0000 - val_loss: 0.1283 - val_acc: 0.9770\n",
      "Epoch 157/200\n",
      "60000/60000 [==============================] - 4s 68us/step - loss: 3.2162e-04 - acc: 1.0000 - val_loss: 0.1282 - val_acc: 0.9770\n",
      "Epoch 158/200\n",
      "60000/60000 [==============================] - 4s 68us/step - loss: 3.1794e-04 - acc: 1.0000 - val_loss: 0.1286 - val_acc: 0.9767\n",
      "Epoch 159/200\n",
      "60000/60000 [==============================] - 4s 67us/step - loss: 3.1388e-04 - acc: 1.0000 - val_loss: 0.1288 - val_acc: 0.9768\n",
      "Epoch 160/200\n",
      "60000/60000 [==============================] - 4s 68us/step - loss: 3.1063e-04 - acc: 1.0000 - val_loss: 0.1286 - val_acc: 0.9768\n",
      "Epoch 161/200\n",
      "60000/60000 [==============================] - 4s 69us/step - loss: 3.0841e-04 - acc: 1.0000 - val_loss: 0.1291 - val_acc: 0.9769\n",
      "Epoch 162/200\n",
      "60000/60000 [==============================] - 4s 69us/step - loss: 3.0545e-04 - acc: 1.0000 - val_loss: 0.1292 - val_acc: 0.9767\n",
      "Epoch 163/200\n",
      "60000/60000 [==============================] - 4s 70us/step - loss: 3.0306e-04 - acc: 1.0000 - val_loss: 0.1295 - val_acc: 0.9764\n",
      "Epoch 164/200\n",
      "60000/60000 [==============================] - 4s 67us/step - loss: 3.0038e-04 - acc: 1.0000 - val_loss: 0.1295 - val_acc: 0.9764\n",
      "Epoch 165/200\n",
      "60000/60000 [==============================] - 4s 68us/step - loss: 2.9791e-04 - acc: 1.0000 - val_loss: 0.1295 - val_acc: 0.9765\n",
      "Epoch 166/200\n",
      "60000/60000 [==============================] - 4s 69us/step - loss: 2.9480e-04 - acc: 1.0000 - val_loss: 0.1297 - val_acc: 0.9766\n",
      "Epoch 167/200\n",
      "60000/60000 [==============================] - 4s 67us/step - loss: 2.9183e-04 - acc: 1.0000 - val_loss: 0.1299 - val_acc: 0.9762\n",
      "Epoch 168/200\n",
      "60000/60000 [==============================] - 4s 67us/step - loss: 2.8934e-04 - acc: 1.0000 - val_loss: 0.1299 - val_acc: 0.9761\n",
      "Epoch 169/200\n",
      "60000/60000 [==============================] - 4s 70us/step - loss: 2.8703e-04 - acc: 1.0000 - val_loss: 0.1303 - val_acc: 0.9764\n",
      "Epoch 170/200\n",
      "60000/60000 [==============================] - 4s 70us/step - loss: 2.8489e-04 - acc: 1.0000 - val_loss: 0.1302 - val_acc: 0.9763\n",
      "Epoch 171/200\n",
      "60000/60000 [==============================] - 4s 69us/step - loss: 2.8152e-04 - acc: 1.0000 - val_loss: 0.1301 - val_acc: 0.9764\n",
      "Epoch 172/200\n",
      "60000/60000 [==============================] - 4s 69us/step - loss: 2.7878e-04 - acc: 1.0000 - val_loss: 0.1305 - val_acc: 0.9767\n",
      "Epoch 173/200\n",
      "60000/60000 [==============================] - 4s 71us/step - loss: 2.7779e-04 - acc: 1.0000 - val_loss: 0.1308 - val_acc: 0.9761\n"
     ]
    },
    {
     "name": "stdout",
     "output_type": "stream",
     "text": [
      "Epoch 174/200\n",
      "60000/60000 [==============================] - 4s 64us/step - loss: 2.7363e-04 - acc: 1.0000 - val_loss: 0.1305 - val_acc: 0.9766\n",
      "Epoch 175/200\n",
      "60000/60000 [==============================] - 4s 64us/step - loss: 2.7238e-04 - acc: 1.0000 - val_loss: 0.1304 - val_acc: 0.9763\n",
      "Epoch 176/200\n",
      "60000/60000 [==============================] - 4s 66us/step - loss: 2.6965e-04 - acc: 1.0000 - val_loss: 0.1308 - val_acc: 0.9766\n",
      "Epoch 177/200\n",
      "60000/60000 [==============================] - 4s 64us/step - loss: 2.6700e-04 - acc: 1.0000 - val_loss: 0.1310 - val_acc: 0.9761\n",
      "Epoch 178/200\n",
      "60000/60000 [==============================] - 4s 68us/step - loss: 2.6463e-04 - acc: 1.0000 - val_loss: 0.1309 - val_acc: 0.9766\n",
      "Epoch 179/200\n",
      "60000/60000 [==============================] - 4s 65us/step - loss: 2.6197e-04 - acc: 1.0000 - val_loss: 0.1309 - val_acc: 0.9765\n",
      "Epoch 180/200\n",
      "60000/60000 [==============================] - 4s 64us/step - loss: 2.6078e-04 - acc: 1.0000 - val_loss: 0.1312 - val_acc: 0.9766\n",
      "Epoch 181/200\n",
      "60000/60000 [==============================] - 4s 65us/step - loss: 2.5905e-04 - acc: 1.0000 - val_loss: 0.1316 - val_acc: 0.9768\n",
      "Epoch 182/200\n",
      "60000/60000 [==============================] - 4s 64us/step - loss: 2.5598e-04 - acc: 1.0000 - val_loss: 0.1317 - val_acc: 0.9763\n",
      "Epoch 183/200\n",
      "60000/60000 [==============================] - 4s 65us/step - loss: 2.5492e-04 - acc: 1.0000 - val_loss: 0.1319 - val_acc: 0.9766\n",
      "Epoch 184/200\n",
      "60000/60000 [==============================] - 4s 66us/step - loss: 2.5240e-04 - acc: 1.0000 - val_loss: 0.1321 - val_acc: 0.9765\n",
      "Epoch 185/200\n",
      "60000/60000 [==============================] - 4s 65us/step - loss: 2.5040e-04 - acc: 1.0000 - val_loss: 0.1320 - val_acc: 0.9765\n",
      "Epoch 186/200\n",
      "60000/60000 [==============================] - 4s 67us/step - loss: 2.4794e-04 - acc: 1.0000 - val_loss: 0.1319 - val_acc: 0.9764\n",
      "Epoch 187/200\n",
      "60000/60000 [==============================] - 4s 65us/step - loss: 2.4646e-04 - acc: 1.0000 - val_loss: 0.1320 - val_acc: 0.9770\n",
      "Epoch 188/200\n",
      "60000/60000 [==============================] - 4s 66us/step - loss: 2.4428e-04 - acc: 1.0000 - val_loss: 0.1323 - val_acc: 0.9766\n",
      "Epoch 189/200\n",
      "60000/60000 [==============================] - 4s 66us/step - loss: 2.4286e-04 - acc: 1.0000 - val_loss: 0.1325 - val_acc: 0.9765\n",
      "Epoch 190/200\n",
      "60000/60000 [==============================] - 4s 67us/step - loss: 2.4027e-04 - acc: 1.0000 - val_loss: 0.1326 - val_acc: 0.9763\n",
      "Epoch 191/200\n",
      "60000/60000 [==============================] - 4s 67us/step - loss: 2.3757e-04 - acc: 1.0000 - val_loss: 0.1323 - val_acc: 0.9767\n",
      "Epoch 192/200\n",
      "60000/60000 [==============================] - 4s 67us/step - loss: 2.3742e-04 - acc: 1.0000 - val_loss: 0.1328 - val_acc: 0.9765\n",
      "Epoch 193/200\n",
      "60000/60000 [==============================] - 4s 66us/step - loss: 2.3507e-04 - acc: 1.0000 - val_loss: 0.1329 - val_acc: 0.9766\n",
      "Epoch 194/200\n",
      "60000/60000 [==============================] - 4s 67us/step - loss: 2.3369e-04 - acc: 1.0000 - val_loss: 0.1330 - val_acc: 0.9763\n",
      "Epoch 195/200\n",
      "60000/60000 [==============================] - 4s 65us/step - loss: 2.3109e-04 - acc: 1.0000 - val_loss: 0.1332 - val_acc: 0.9764\n",
      "Epoch 196/200\n",
      "60000/60000 [==============================] - 4s 66us/step - loss: 2.2940e-04 - acc: 1.0000 - val_loss: 0.1333 - val_acc: 0.9766\n",
      "Epoch 197/200\n",
      "60000/60000 [==============================] - 4s 66us/step - loss: 2.2811e-04 - acc: 1.0000 - val_loss: 0.1336 - val_acc: 0.9764\n",
      "Epoch 198/200\n",
      "60000/60000 [==============================] - 4s 66us/step - loss: 2.2644e-04 - acc: 1.0000 - val_loss: 0.1338 - val_acc: 0.9765\n",
      "Epoch 199/200\n",
      "60000/60000 [==============================] - 4s 67us/step - loss: 2.2478e-04 - acc: 1.0000 - val_loss: 0.1336 - val_acc: 0.9768\n",
      "Epoch 200/200\n",
      "60000/60000 [==============================] - 4s 67us/step - loss: 2.2244e-04 - acc: 1.0000 - val_loss: 0.1338 - val_acc: 0.9766\n"
     ]
    },
    {
     "data": {
      "text/plain": [
       "<keras.callbacks.History at 0x7f3b44a0cb00>"
      ]
     },
     "execution_count": 10,
     "metadata": {},
     "output_type": "execute_result"
    }
   ],
   "source": [
    "model.fit(X_train, y_train, batch_size=128, epochs=200, verbose=1, validation_data=(X_test, y_test))"
   ]
  },
  {
   "cell_type": "code",
   "execution_count": 11,
   "metadata": {},
   "outputs": [
    {
     "name": "stdout",
     "output_type": "stream",
     "text": [
      "10000/10000 [==============================] - 1s 66us/step\n"
     ]
    },
    {
     "data": {
      "text/plain": [
       "[0.13378625842160005, 0.9766]"
      ]
     },
     "execution_count": 11,
     "metadata": {},
     "output_type": "execute_result"
    }
   ],
   "source": [
    "model.evaluate(X_test, y_test)"
   ]
  },
  {
   "cell_type": "code",
   "execution_count": null,
   "metadata": {},
   "outputs": [],
   "source": []
  },
  {
   "cell_type": "code",
   "execution_count": null,
   "metadata": {},
   "outputs": [],
   "source": []
  },
  {
   "cell_type": "code",
   "execution_count": null,
   "metadata": {},
   "outputs": [],
   "source": []
  },
  {
   "cell_type": "code",
   "execution_count": null,
   "metadata": {},
   "outputs": [],
   "source": []
  },
  {
   "cell_type": "code",
   "execution_count": null,
   "metadata": {},
   "outputs": [],
   "source": []
  }
 ],
 "metadata": {
  "kernelspec": {
   "display_name": "Python 3",
   "language": "python",
   "name": "python3"
  },
  "language_info": {
   "codemirror_mode": {
    "name": "ipython",
    "version": 3
   },
   "file_extension": ".py",
   "mimetype": "text/x-python",
   "name": "python",
   "nbconvert_exporter": "python",
   "pygments_lexer": "ipython3",
   "version": "3.6.5"
  }
 },
 "nbformat": 4,
 "nbformat_minor": 2
}
