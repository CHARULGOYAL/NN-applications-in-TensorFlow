{
 "cells": [
  {
   "cell_type": "markdown",
   "metadata": {},
   "source": [
    "# Deep Neural Network in Keras"
   ]
  },
  {
   "cell_type": "markdown",
   "metadata": {},
   "source": [
    "Build an deep neural network to classify MNIST digits"
   ]
  },
  {
   "cell_type": "markdown",
   "metadata": {},
   "source": [
    "#### Set seed for reproducibility"
   ]
  },
  {
   "cell_type": "code",
   "execution_count": 1,
   "metadata": {},
   "outputs": [],
   "source": [
    "import numpy as np\n",
    "np.random.seed(42)"
   ]
  },
  {
   "cell_type": "markdown",
   "metadata": {},
   "source": [
    "#### Load dependencies"
   ]
  },
  {
   "cell_type": "code",
   "execution_count": 2,
   "metadata": {},
   "outputs": [
    {
     "name": "stderr",
     "output_type": "stream",
     "text": [
      "/home/charul/anaconda3/lib/python3.6/site-packages/h5py/__init__.py:36: FutureWarning: Conversion of the second argument of issubdtype from `float` to `np.floating` is deprecated. In future, it will be treated as `np.float64 == np.dtype(float).type`.\n",
      "  from ._conv import register_converters as _register_converters\n",
      "Using TensorFlow backend.\n"
     ]
    }
   ],
   "source": [
    "import keras\n",
    "from keras.datasets import mnist\n",
    "from keras.models import Sequential\n",
    "from keras.layers import Dense\n",
    "from keras.layers import Dropout\n",
    "from keras.layers.normalization import BatchNormalization\n",
    "from keras import regularizers\n",
    "from keras.optimizers import SGD"
   ]
  },
  {
   "cell_type": "markdown",
   "metadata": {},
   "source": [
    "#### Load data"
   ]
  },
  {
   "cell_type": "code",
   "execution_count": 3,
   "metadata": {},
   "outputs": [],
   "source": [
    "(X_train, y_train), (X_test, y_test) = mnist.load_data()"
   ]
  },
  {
   "cell_type": "markdown",
   "metadata": {},
   "source": [
    "#### Preprocess data"
   ]
  },
  {
   "cell_type": "code",
   "execution_count": 4,
   "metadata": {},
   "outputs": [],
   "source": [
    "X_train = X_train.reshape(60000, 784).astype('float32')\n",
    "X_test = X_test.reshape(10000, 784).astype('float32')"
   ]
  },
  {
   "cell_type": "code",
   "execution_count": 5,
   "metadata": {},
   "outputs": [],
   "source": [
    "X_train /= 255\n",
    "X_test /= 255"
   ]
  },
  {
   "cell_type": "code",
   "execution_count": 6,
   "metadata": {},
   "outputs": [],
   "source": [
    "n_classes = 10\n",
    "y_train = keras.utils.to_categorical(y_train, n_classes)\n",
    "y_test = keras.utils.to_categorical(y_test, n_classes)"
   ]
  },
  {
   "cell_type": "markdown",
   "metadata": {},
   "source": [
    "#### Design neural network architecture"
   ]
  },
  {
   "cell_type": "code",
   "execution_count": 7,
   "metadata": {},
   "outputs": [],
   "source": [
    "model = Sequential()\n",
    "model.add(Dense(64, activation='relu', input_shape=(784,)))\n",
    "model.add(BatchNormalization())\n",
    "model.add(Dropout(0.5))\n",
    "model.add(Dense(64, activation='relu'))\n",
    "model.add(BatchNormalization())\n",
    "model.add(Dropout(0.5))\n",
    "model.add(Dense(10, activation='softmax'))"
   ]
  },
  {
   "cell_type": "code",
   "execution_count": 8,
   "metadata": {
    "scrolled": true
   },
   "outputs": [
    {
     "name": "stdout",
     "output_type": "stream",
     "text": [
      "_________________________________________________________________\n",
      "Layer (type)                 Output Shape              Param #   \n",
      "=================================================================\n",
      "dense_1 (Dense)              (None, 64)                50240     \n",
      "_________________________________________________________________\n",
      "batch_normalization_1 (Batch (None, 64)                256       \n",
      "_________________________________________________________________\n",
      "dropout_1 (Dropout)          (None, 64)                0         \n",
      "_________________________________________________________________\n",
      "dense_2 (Dense)              (None, 64)                4160      \n",
      "_________________________________________________________________\n",
      "batch_normalization_2 (Batch (None, 64)                256       \n",
      "_________________________________________________________________\n",
      "dropout_2 (Dropout)          (None, 64)                0         \n",
      "_________________________________________________________________\n",
      "dense_3 (Dense)              (None, 10)                650       \n",
      "=================================================================\n",
      "Total params: 55,562\n",
      "Trainable params: 55,306\n",
      "Non-trainable params: 256\n",
      "_________________________________________________________________\n"
     ]
    }
   ],
   "source": [
    "model.summary()"
   ]
  },
  {
   "cell_type": "markdown",
   "metadata": {},
   "source": [
    "#### Configure model"
   ]
  },
  {
   "cell_type": "code",
   "execution_count": 10,
   "metadata": {},
   "outputs": [],
   "source": [
    "model.compile(loss='categorical_crossentropy', optimizer= 'adam', metrics=['accuracy'])"
   ]
  },
  {
   "cell_type": "markdown",
   "metadata": {},
   "source": [
    "#### Train"
   ]
  },
  {
   "cell_type": "code",
   "execution_count": 12,
   "metadata": {},
   "outputs": [
    {
     "name": "stdout",
     "output_type": "stream",
     "text": [
      "Train on 60000 samples, validate on 10000 samples\n",
      "Epoch 1/100\n",
      "60000/60000 [==============================] - 13s 217us/step - loss: 0.8540 - acc: 0.7315 - val_loss: 0.2608 - val_acc: 0.9241\n",
      "Epoch 2/100\n",
      "60000/60000 [==============================] - 6s 106us/step - loss: 0.4403 - acc: 0.8710 - val_loss: 0.2101 - val_acc: 0.9367\n",
      "Epoch 3/100\n",
      "60000/60000 [==============================] - 6s 104us/step - loss: 0.3700 - acc: 0.8923 - val_loss: 0.1867 - val_acc: 0.9418\n",
      "Epoch 4/100\n",
      "60000/60000 [==============================] - 6s 104us/step - loss: 0.3309 - acc: 0.9040 - val_loss: 0.1666 - val_acc: 0.9498\n",
      "Epoch 5/100\n",
      "60000/60000 [==============================] - 6s 104us/step - loss: 0.3064 - acc: 0.9116 - val_loss: 0.1535 - val_acc: 0.9521\n",
      "Epoch 6/100\n",
      "60000/60000 [==============================] - 6s 104us/step - loss: 0.2883 - acc: 0.9168 - val_loss: 0.1431 - val_acc: 0.9586\n",
      "Epoch 7/100\n",
      "60000/60000 [==============================] - 6s 103us/step - loss: 0.2744 - acc: 0.9199 - val_loss: 0.1413 - val_acc: 0.9570\n",
      "Epoch 8/100\n",
      "60000/60000 [==============================] - 6s 104us/step - loss: 0.2642 - acc: 0.9228 - val_loss: 0.1365 - val_acc: 0.9580\n",
      "Epoch 9/100\n",
      "60000/60000 [==============================] - 6s 106us/step - loss: 0.2477 - acc: 0.9285 - val_loss: 0.1414 - val_acc: 0.9570\n",
      "Epoch 10/100\n",
      "60000/60000 [==============================] - 6s 103us/step - loss: 0.2433 - acc: 0.9297 - val_loss: 0.1266 - val_acc: 0.9630\n",
      "Epoch 11/100\n",
      "60000/60000 [==============================] - 6s 104us/step - loss: 0.2391 - acc: 0.9303 - val_loss: 0.1246 - val_acc: 0.9637\n",
      "Epoch 12/100\n",
      "60000/60000 [==============================] - 6s 104us/step - loss: 0.2283 - acc: 0.9338 - val_loss: 0.1199 - val_acc: 0.9639\n",
      "Epoch 13/100\n",
      "60000/60000 [==============================] - 6s 105us/step - loss: 0.2255 - acc: 0.9337 - val_loss: 0.1209 - val_acc: 0.9636\n",
      "Epoch 14/100\n",
      "60000/60000 [==============================] - 6s 104us/step - loss: 0.2177 - acc: 0.9361 - val_loss: 0.1184 - val_acc: 0.9634\n",
      "Epoch 15/100\n",
      "60000/60000 [==============================] - 6s 103us/step - loss: 0.2179 - acc: 0.9360 - val_loss: 0.1139 - val_acc: 0.9656\n",
      "Epoch 16/100\n",
      "60000/60000 [==============================] - 6s 104us/step - loss: 0.2139 - acc: 0.9379 - val_loss: 0.1210 - val_acc: 0.9634\n",
      "Epoch 17/100\n",
      "60000/60000 [==============================] - 6s 104us/step - loss: 0.2049 - acc: 0.9393 - val_loss: 0.1166 - val_acc: 0.9645\n",
      "Epoch 18/100\n",
      "60000/60000 [==============================] - 6s 104us/step - loss: 0.2052 - acc: 0.9403 - val_loss: 0.1156 - val_acc: 0.9660\n",
      "Epoch 19/100\n",
      "60000/60000 [==============================] - 6s 104us/step - loss: 0.2061 - acc: 0.9387 - val_loss: 0.1118 - val_acc: 0.9667\n",
      "Epoch 20/100\n",
      "60000/60000 [==============================] - 6s 103us/step - loss: 0.2001 - acc: 0.9413 - val_loss: 0.1107 - val_acc: 0.9663\n",
      "Epoch 21/100\n",
      "60000/60000 [==============================] - 6s 103us/step - loss: 0.1986 - acc: 0.9422 - val_loss: 0.1141 - val_acc: 0.9654\n",
      "Epoch 22/100\n",
      "60000/60000 [==============================] - 6s 103us/step - loss: 0.1954 - acc: 0.9432 - val_loss: 0.1133 - val_acc: 0.9668\n",
      "Epoch 23/100\n",
      "60000/60000 [==============================] - 6s 104us/step - loss: 0.1944 - acc: 0.9435 - val_loss: 0.1099 - val_acc: 0.9684\n",
      "Epoch 24/100\n",
      "60000/60000 [==============================] - 6s 104us/step - loss: 0.1904 - acc: 0.9442 - val_loss: 0.1092 - val_acc: 0.9675\n",
      "Epoch 25/100\n",
      "60000/60000 [==============================] - 6s 103us/step - loss: 0.1902 - acc: 0.9446 - val_loss: 0.1102 - val_acc: 0.9680\n",
      "Epoch 26/100\n",
      "60000/60000 [==============================] - 6s 105us/step - loss: 0.1847 - acc: 0.9461 - val_loss: 0.1033 - val_acc: 0.9696\n",
      "Epoch 27/100\n",
      "60000/60000 [==============================] - 6s 104us/step - loss: 0.1869 - acc: 0.9458 - val_loss: 0.1067 - val_acc: 0.9686\n",
      "Epoch 28/100\n",
      "60000/60000 [==============================] - 6s 104us/step - loss: 0.1892 - acc: 0.9451 - val_loss: 0.1071 - val_acc: 0.9689\n",
      "Epoch 29/100\n",
      "60000/60000 [==============================] - 6s 105us/step - loss: 0.1801 - acc: 0.9474 - val_loss: 0.1092 - val_acc: 0.9684\n",
      "Epoch 30/100\n",
      "60000/60000 [==============================] - 6s 103us/step - loss: 0.1823 - acc: 0.9463 - val_loss: 0.1047 - val_acc: 0.9698\n",
      "Epoch 31/100\n",
      "60000/60000 [==============================] - 7s 108us/step - loss: 0.1812 - acc: 0.9472 - val_loss: 0.1070 - val_acc: 0.9699\n",
      "Epoch 32/100\n",
      "60000/60000 [==============================] - 7s 119us/step - loss: 0.1780 - acc: 0.9472 - val_loss: 0.1054 - val_acc: 0.9700\n",
      "Epoch 33/100\n",
      "60000/60000 [==============================] - 6s 107us/step - loss: 0.1816 - acc: 0.9464 - val_loss: 0.1030 - val_acc: 0.9706\n",
      "Epoch 34/100\n",
      "60000/60000 [==============================] - 6s 104us/step - loss: 0.1742 - acc: 0.9481 - val_loss: 0.1071 - val_acc: 0.9696\n",
      "Epoch 35/100\n",
      "60000/60000 [==============================] - 6s 104us/step - loss: 0.1754 - acc: 0.9493 - val_loss: 0.1006 - val_acc: 0.9717\n",
      "Epoch 36/100\n",
      "60000/60000 [==============================] - 6s 103us/step - loss: 0.1779 - acc: 0.9481 - val_loss: 0.1030 - val_acc: 0.9702\n",
      "Epoch 37/100\n",
      "60000/60000 [==============================] - 6s 104us/step - loss: 0.1720 - acc: 0.9486 - val_loss: 0.0998 - val_acc: 0.9714\n",
      "Epoch 38/100\n",
      "60000/60000 [==============================] - 6s 105us/step - loss: 0.1672 - acc: 0.9505 - val_loss: 0.1031 - val_acc: 0.9715\n",
      "Epoch 39/100\n",
      "60000/60000 [==============================] - 6s 104us/step - loss: 0.1761 - acc: 0.9487 - val_loss: 0.0985 - val_acc: 0.9720\n",
      "Epoch 40/100\n",
      "60000/60000 [==============================] - 6s 104us/step - loss: 0.1714 - acc: 0.9483 - val_loss: 0.1035 - val_acc: 0.9718\n",
      "Epoch 41/100\n",
      "60000/60000 [==============================] - 6s 107us/step - loss: 0.1684 - acc: 0.9492 - val_loss: 0.1056 - val_acc: 0.9698\n",
      "Epoch 42/100\n",
      "60000/60000 [==============================] - 6s 105us/step - loss: 0.1682 - acc: 0.9503 - val_loss: 0.1007 - val_acc: 0.9711\n",
      "Epoch 43/100\n",
      "60000/60000 [==============================] - 6s 105us/step - loss: 0.1702 - acc: 0.9495 - val_loss: 0.1021 - val_acc: 0.9696\n",
      "Epoch 44/100\n",
      "60000/60000 [==============================] - 6s 103us/step - loss: 0.1651 - acc: 0.9492 - val_loss: 0.1009 - val_acc: 0.9716\n",
      "Epoch 45/100\n",
      "60000/60000 [==============================] - 6s 106us/step - loss: 0.1647 - acc: 0.9513 - val_loss: 0.1001 - val_acc: 0.9721\n",
      "Epoch 46/100\n",
      "60000/60000 [==============================] - 6s 105us/step - loss: 0.1697 - acc: 0.9506 - val_loss: 0.0985 - val_acc: 0.9725\n",
      "Epoch 47/100\n",
      "60000/60000 [==============================] - 6s 104us/step - loss: 0.1691 - acc: 0.9498 - val_loss: 0.1021 - val_acc: 0.9706\n",
      "Epoch 48/100\n",
      "60000/60000 [==============================] - 6s 105us/step - loss: 0.1659 - acc: 0.9505 - val_loss: 0.1037 - val_acc: 0.9691\n",
      "Epoch 49/100\n",
      "60000/60000 [==============================] - 7s 119us/step - loss: 0.1639 - acc: 0.9511 - val_loss: 0.1019 - val_acc: 0.9709\n",
      "Epoch 50/100\n",
      "60000/60000 [==============================] - 8s 126us/step - loss: 0.1642 - acc: 0.9513 - val_loss: 0.1049 - val_acc: 0.9697\n",
      "Epoch 51/100\n",
      "60000/60000 [==============================] - 6s 105us/step - loss: 0.1649 - acc: 0.9514 - val_loss: 0.1034 - val_acc: 0.9712\n",
      "Epoch 52/100\n",
      "60000/60000 [==============================] - 6s 105us/step - loss: 0.1615 - acc: 0.9527 - val_loss: 0.1000 - val_acc: 0.9706\n",
      "Epoch 53/100\n",
      "60000/60000 [==============================] - 6s 107us/step - loss: 0.1649 - acc: 0.9504 - val_loss: 0.0994 - val_acc: 0.9712\n",
      "Epoch 54/100\n",
      "60000/60000 [==============================] - 7s 109us/step - loss: 0.1598 - acc: 0.9526 - val_loss: 0.1039 - val_acc: 0.9703\n",
      "Epoch 55/100\n",
      "60000/60000 [==============================] - 6s 108us/step - loss: 0.1596 - acc: 0.9536 - val_loss: 0.1010 - val_acc: 0.9708\n",
      "Epoch 56/100\n",
      "60000/60000 [==============================] - 6s 103us/step - loss: 0.1632 - acc: 0.9514 - val_loss: 0.1069 - val_acc: 0.9698\n",
      "Epoch 57/100\n",
      "60000/60000 [==============================] - 6s 104us/step - loss: 0.1571 - acc: 0.9527 - val_loss: 0.0982 - val_acc: 0.9709\n",
      "Epoch 58/100\n",
      "60000/60000 [==============================] - 6s 104us/step - loss: 0.1559 - acc: 0.9524 - val_loss: 0.0993 - val_acc: 0.9719\n",
      "Epoch 59/100\n",
      "60000/60000 [==============================] - 6s 104us/step - loss: 0.1566 - acc: 0.9531 - val_loss: 0.1008 - val_acc: 0.9714\n",
      "Epoch 60/100\n",
      "60000/60000 [==============================] - 6s 104us/step - loss: 0.1601 - acc: 0.9529 - val_loss: 0.1060 - val_acc: 0.9699\n",
      "Epoch 61/100\n",
      "60000/60000 [==============================] - 6s 102us/step - loss: 0.1580 - acc: 0.9529 - val_loss: 0.1012 - val_acc: 0.9709\n",
      "Epoch 62/100\n",
      "60000/60000 [==============================] - 6s 101us/step - loss: 0.1551 - acc: 0.9540 - val_loss: 0.1006 - val_acc: 0.9721\n",
      "Epoch 63/100\n",
      "60000/60000 [==============================] - 6s 106us/step - loss: 0.1551 - acc: 0.9544 - val_loss: 0.0982 - val_acc: 0.9723\n",
      "Epoch 64/100\n",
      "60000/60000 [==============================] - 6s 103us/step - loss: 0.1577 - acc: 0.9528 - val_loss: 0.1035 - val_acc: 0.9724\n",
      "Epoch 65/100\n",
      "60000/60000 [==============================] - 6s 103us/step - loss: 0.1579 - acc: 0.9528 - val_loss: 0.1012 - val_acc: 0.9724\n",
      "Epoch 66/100\n",
      "60000/60000 [==============================] - 6s 103us/step - loss: 0.1539 - acc: 0.9542 - val_loss: 0.0968 - val_acc: 0.9721\n",
      "Epoch 67/100\n",
      "60000/60000 [==============================] - 6s 103us/step - loss: 0.1527 - acc: 0.9542 - val_loss: 0.0990 - val_acc: 0.9710\n",
      "Epoch 68/100\n",
      "60000/60000 [==============================] - 6s 102us/step - loss: 0.1496 - acc: 0.9538 - val_loss: 0.1042 - val_acc: 0.9703\n",
      "Epoch 69/100\n",
      "60000/60000 [==============================] - 6s 103us/step - loss: 0.1554 - acc: 0.9537 - val_loss: 0.1012 - val_acc: 0.9699\n",
      "Epoch 70/100\n",
      "60000/60000 [==============================] - 6s 103us/step - loss: 0.1520 - acc: 0.9539 - val_loss: 0.0970 - val_acc: 0.9718\n",
      "Epoch 71/100\n",
      "60000/60000 [==============================] - 6s 103us/step - loss: 0.1499 - acc: 0.9548 - val_loss: 0.1010 - val_acc: 0.9723\n",
      "Epoch 72/100\n",
      "60000/60000 [==============================] - 6s 103us/step - loss: 0.1479 - acc: 0.9560 - val_loss: 0.1067 - val_acc: 0.9696\n",
      "Epoch 73/100\n",
      "60000/60000 [==============================] - 6s 104us/step - loss: 0.1509 - acc: 0.9547 - val_loss: 0.0992 - val_acc: 0.9723\n",
      "Epoch 74/100\n",
      "60000/60000 [==============================] - 6s 102us/step - loss: 0.1530 - acc: 0.9540 - val_loss: 0.0997 - val_acc: 0.9717\n",
      "Epoch 75/100\n",
      "60000/60000 [==============================] - 6s 103us/step - loss: 0.1511 - acc: 0.9554 - val_loss: 0.1037 - val_acc: 0.9712\n",
      "Epoch 76/100\n",
      "60000/60000 [==============================] - 6s 102us/step - loss: 0.1519 - acc: 0.9545 - val_loss: 0.1013 - val_acc: 0.9716\n",
      "Epoch 77/100\n",
      "60000/60000 [==============================] - 6s 103us/step - loss: 0.1523 - acc: 0.9553 - val_loss: 0.1031 - val_acc: 0.9722\n",
      "Epoch 78/100\n",
      "60000/60000 [==============================] - 6s 102us/step - loss: 0.1505 - acc: 0.9545 - val_loss: 0.1012 - val_acc: 0.9719\n",
      "Epoch 79/100\n",
      "60000/60000 [==============================] - 6s 102us/step - loss: 0.1512 - acc: 0.9547 - val_loss: 0.1016 - val_acc: 0.9714\n",
      "Epoch 80/100\n",
      "60000/60000 [==============================] - 6s 103us/step - loss: 0.1466 - acc: 0.9567 - val_loss: 0.1035 - val_acc: 0.9725\n",
      "Epoch 81/100\n",
      "60000/60000 [==============================] - 6s 102us/step - loss: 0.1498 - acc: 0.9549 - val_loss: 0.0989 - val_acc: 0.9732\n",
      "Epoch 82/100\n",
      "60000/60000 [==============================] - 6s 105us/step - loss: 0.1475 - acc: 0.9556 - val_loss: 0.0965 - val_acc: 0.9721\n",
      "Epoch 83/100\n",
      "60000/60000 [==============================] - 6s 103us/step - loss: 0.1540 - acc: 0.9537 - val_loss: 0.0992 - val_acc: 0.9733\n",
      "Epoch 84/100\n",
      "60000/60000 [==============================] - 6s 103us/step - loss: 0.1509 - acc: 0.9549 - val_loss: 0.0959 - val_acc: 0.9719\n",
      "Epoch 85/100\n",
      "60000/60000 [==============================] - 6s 102us/step - loss: 0.1472 - acc: 0.9567 - val_loss: 0.1021 - val_acc: 0.9716\n",
      "Epoch 86/100\n",
      "60000/60000 [==============================] - 6s 102us/step - loss: 0.1468 - acc: 0.9560 - val_loss: 0.1005 - val_acc: 0.9715\n",
      "Epoch 87/100\n",
      "60000/60000 [==============================] - 6s 101us/step - loss: 0.1464 - acc: 0.9564 - val_loss: 0.0999 - val_acc: 0.9719\n",
      "Epoch 88/100\n",
      "60000/60000 [==============================] - 6s 102us/step - loss: 0.1481 - acc: 0.9545 - val_loss: 0.0995 - val_acc: 0.9724\n",
      "Epoch 89/100\n",
      "60000/60000 [==============================] - 6s 102us/step - loss: 0.1446 - acc: 0.9568 - val_loss: 0.1033 - val_acc: 0.9716\n",
      "Epoch 90/100\n",
      "60000/60000 [==============================] - 6s 102us/step - loss: 0.1439 - acc: 0.9560 - val_loss: 0.1063 - val_acc: 0.9716\n",
      "Epoch 91/100\n",
      "60000/60000 [==============================] - 6s 102us/step - loss: 0.1441 - acc: 0.9567 - val_loss: 0.1031 - val_acc: 0.9720\n",
      "Epoch 92/100\n",
      "60000/60000 [==============================] - 6s 102us/step - loss: 0.1444 - acc: 0.9565 - val_loss: 0.1069 - val_acc: 0.9709\n",
      "Epoch 93/100\n",
      "60000/60000 [==============================] - 6s 106us/step - loss: 0.1477 - acc: 0.9550 - val_loss: 0.1018 - val_acc: 0.9715\n",
      "Epoch 94/100\n",
      "60000/60000 [==============================] - 6s 103us/step - loss: 0.1474 - acc: 0.9565 - val_loss: 0.1009 - val_acc: 0.9718\n",
      "Epoch 95/100\n",
      "60000/60000 [==============================] - 6s 102us/step - loss: 0.1421 - acc: 0.9569 - val_loss: 0.1012 - val_acc: 0.9727\n",
      "Epoch 96/100\n",
      "60000/60000 [==============================] - 6s 106us/step - loss: 0.1458 - acc: 0.9563 - val_loss: 0.1067 - val_acc: 0.9704\n",
      "Epoch 97/100\n",
      "60000/60000 [==============================] - 6s 102us/step - loss: 0.1444 - acc: 0.9567 - val_loss: 0.1023 - val_acc: 0.9717\n",
      "Epoch 98/100\n",
      "60000/60000 [==============================] - 6s 103us/step - loss: 0.1425 - acc: 0.9573 - val_loss: 0.1029 - val_acc: 0.9719\n",
      "Epoch 99/100\n",
      "60000/60000 [==============================] - 6s 102us/step - loss: 0.1416 - acc: 0.9581 - val_loss: 0.1055 - val_acc: 0.9700\n",
      "Epoch 100/100\n",
      "60000/60000 [==============================] - 6s 106us/step - loss: 0.1406 - acc: 0.9579 - val_loss: 0.1073 - val_acc: 0.9705\n"
     ]
    },
    {
     "data": {
      "text/plain": [
       "<keras.callbacks.History at 0x7f02486e9b38>"
      ]
     },
     "execution_count": 12,
     "metadata": {},
     "output_type": "execute_result"
    }
   ],
   "source": [
    "model.fit(X_train, y_train, batch_size=128, epochs=100, verbose=1, validation_data=(X_test, y_test))"
   ]
  },
  {
   "cell_type": "code",
   "execution_count": null,
   "metadata": {},
   "outputs": [],
   "source": []
  },
  {
   "cell_type": "code",
   "execution_count": null,
   "metadata": {},
   "outputs": [],
   "source": []
  }
 ],
 "metadata": {
  "kernelspec": {
   "display_name": "Python 3",
   "language": "python",
   "name": "python3"
  },
  "language_info": {
   "codemirror_mode": {
    "name": "ipython",
    "version": 3
   },
   "file_extension": ".py",
   "mimetype": "text/x-python",
   "name": "python",
   "nbconvert_exporter": "python",
   "pygments_lexer": "ipython3",
   "version": "3.6.5"
  }
 },
 "nbformat": 4,
 "nbformat_minor": 2
}
